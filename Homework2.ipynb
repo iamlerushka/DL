{
 "cells": [
  {
   "cell_type": "markdown",
   "metadata": {},
   "source": [
    "## Домашнее задание 1\n",
    "### Основы Python и пакет NumPy\n",
    "---\n"
   ]
  },
  {
   "cell_type": "code",
   "execution_count": null,
   "metadata": {},
   "outputs": [],
   "source": [
    "import numpy as np\n",
    "import random\n",
    "import scipy.stats as sps"
   ]
  },
  {
   "cell_type": "markdown",
   "metadata": {},
   "source": [
    "### Задача 1\n",
    "В первой задаче вам предлагается перемножить две квадратные матрицы двумя способами -- без использования пакета ***numpy*** и с ним."
   ]
  },
  {
   "cell_type": "code",
   "execution_count": null,
   "metadata": {},
   "outputs": [],
   "source": [
    "# Для генерации матриц используем фукнцию random -- она используется для генерации случайных объектов \n",
    "# функция sample создает случайную выборку. В качестве аргумента ей передается кортеж (i,j), здесь i -- число строк,\n",
    "# j -- число столбцов.\n",
    "a = np.random.sample((3,3))\n",
    "b = np.random.sample((3,3))\n",
    "# выведите размерность (ранг) каждой матрицы с помощью функции ndim.\n",
    "# Используйте функцию shape, что она вывела?\n",
    "# ========\n",
    "print(a.ndim)\n",
    "print(b.ndim)\n",
    "print(a.shape)\n",
    "print(b.shape)\n",
    "# ========\n",
    "print(a)\n",
    "print(b)"
   ]
  },
  {
   "cell_type": "code",
   "execution_count": null,
   "metadata": {},
   "outputs": [],
   "source": [
    "def mult(a, b):\n",
    "    # здесь напишите перемножение матриц без \n",
    "    # использования NumPy и выведите результат \n",
    "    return a @ b\n",
    "print(mult(a,b)"
   ]
  },
  {
   "cell_type": "code",
   "execution_count": null,
   "metadata": {},
   "outputs": [],
   "source": [
    "def np_mult(a, b):\n",
    "    # здесь напишите перемножение матриц с\n",
    "    # использованием NumPy и выведите результат\n",
    "    return np.dot(a, b)\n",
    "print(np_mult(a, b))"
   ]
  },
  {
   "cell_type": "code",
   "execution_count": null,
   "metadata": {},
   "outputs": [],
   "source": [
    "%%time\n",
    "# засечем время работы функции без NumPy\n",
    "mult(a,b)"
   ]
  },
  {
   "cell_type": "code",
   "execution_count": null,
   "metadata": {},
   "outputs": [],
   "source": [
    "%%time\n",
    "# засечем время работы функции с NumPy\n",
    "np_mult(a,b)"
   ]
  },
  {
   "cell_type": "markdown",
   "metadata": {},
   "source": [
    "### Задача 2\n",
    "Напишите функцию, которая по данной последовательности $\\{A_i\\}_{i=1}^n$ строит последовательность $S_n$, где $S_k = \\frac{A_1 + ... + A_k}{k}$.  \n",
    "Аналогично -- с помощью библиотеки **NumPy** и без нее. Сравните скорость, объясните результат."
   ]
  },
  {
   "cell_type": "code",
   "execution_count": null,
   "metadata": {},
   "outputs": [],
   "source": [
    "# функция, решающая задачу с помощью NumPy\n",
    "def sec_av(A):\n",
    "    # Ваш код здесь\n",
    "    S = np.cumsum(A)/np.arange(1, A.shape[0]+1)"
   ]
  },
  {
   "cell_type": "code",
   "execution_count": null,
   "metadata": {},
   "outputs": [],
   "source": [
    "# функция без NumPy\n",
    "def stupid_sec_av(A):\n",
    "    S = [0 for i in range(len(A))]\n",
    "    for i in range(len(A)):\n",
    "        S[i] = S[i-1]+S[i]/i\n",
    "    return S\n",
    "\n",
    "# зададим некоторую последовательность и проверим ее на ваших функциях. \n",
    "# Первая функция должна работать ~ в 50 раз быстрее\n",
    "A = sps.uniform.rvs(size=10 ** 7) \n",
    "\n",
    "%time S1 = sec_av(A)\n",
    "%time S2 = stupid_sec_av(A)\n",
    "#проверим корректность:\n",
    "np.abs(S1 - S2).sum()"
   ]
  },
  {
   "cell_type": "markdown",
   "metadata": {},
   "source": [
    "### Задача 3\n",
    "\n",
    "Пусть задан некоторый массив $X$. Надо построить новый массив, где все элементы с нечетными индексами требуется заменить на число $a$ (если оно не указано, то на 1). Все четные элементы исходного массива нужно возвести в куб и записать в обратном порядке относительно позиций этих элементов. Массив $X$ при этом должен остаться без изменений. В конце требуется слить массив X с преобразованным X и вывести в обратном порядке. "
   ]
  },
  {
   "cell_type": "code",
   "execution_count": null,
   "metadata": {},
   "outputs": [],
   "source": [
    "# функция, решающая задачу с помощью NumPy\n",
    "def transformation(X, a=1):\n",
    "    Y = np.copy(X)\n",
    "    Y[1::2] = a\n",
    "    Y[::2] = (Y[::2]**3)[::-1]\n",
    "    Y = np.hstack((X,Y))\n",
    "    Y = Y[::-1]\n",
    "    return Y"
   ]
  },
  {
   "cell_type": "code",
   "execution_count": null,
   "metadata": {},
   "outputs": [],
   "source": [
    "# функция, решающая задачу  без NumPy\n",
    "def stupid_transformation(X, a=1):\n",
    "    def stupid_transformation(X, a=1):\n",
    "    Y = X.copy()\n",
    "    for i in range(len(X)):\n",
    "        if i%2 == 0:\n",
    "            Y[i] = Y[i]**3\n",
    "        else:\n",
    "            Y[i] = a\n",
    "    for i in range(0,len(Y)//2,2):\n",
    "        Y[i], Y[len(Y)-2-i] = Y[len(Y)-2-i], Y[i]\n",
    "    Y = X+Y\n",
    "    Y = Y[::-1]\n",
    "    return Y"
   ]
  },
  {
   "cell_type": "code",
   "execution_count": null,
   "metadata": {},
   "outputs": [],
   "source": [
    "X = sps.uniform.rvs(size=10 ** 7) \n",
    "# здесь код эффективнее примерно в 20 раз. \n",
    "# если Вы вдруг соберетесь печатать массив без np -- лучше сначала посмотрите на его размер\n",
    "%time S1 = transformation(X)\n",
    "%time S2 = stupid_transformation(X)\n",
    "# проверим корректность:\n",
    "np.abs(S1 - S2).sum()"
   ]
  },
  {
   "cell_type": "markdown",
   "metadata": {},
   "source": [
    "Почему методы ***numpy*** оказываются эффективнее?"
   ]
  },
  {
   "cell_type": "markdown",
   "metadata": {
    "collapsed": true
   },
   "source": [
    "Numpy написан на низкоуровневом языке C, который работает гораздо быстрее Python'а"
   ]
  }
 ],
 "metadata": {
  "kernelspec": {
   "display_name": "Python 3",
   "language": "python",
   "name": "python3"
  },
  "language_info": {
   "codemirror_mode": {
    "name": "ipython",
    "version": 3
   },
   "file_extension": ".py",
   "mimetype": "text/x-python",
   "name": "python",
   "nbconvert_exporter": "python",
   "pygments_lexer": "ipython3",
   "version": "3.6.4"
  }
 },
 "nbformat": 4,
 "nbformat_minor": 2
}
